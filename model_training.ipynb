{
 "cells": [
  {
   "cell_type": "code",
   "execution_count": null,
   "metadata": {
    "colab": {
     "base_uri": "https://localhost:8080/"
    },
    "executionInfo": {
     "elapsed": 9437,
     "status": "ok",
     "timestamp": 1737589941529,
     "user": {
      "displayName": "Yuvaraja Reddy Avuthu",
      "userId": "13615256092999220370"
     },
     "user_tz": 300
    },
    "id": "Lo932WT7qt2b",
    "outputId": "f101249c-3dee-4bfd-ded4-1845bcc17d56"
   },
   "outputs": [],
   "source": [
    "from google.colab import drive\n",
    "drive.mount('/content/drive')"
   ]
  },
  {
   "cell_type": "code",
   "execution_count": 2,
   "metadata": {
    "executionInfo": {
     "elapsed": 176,
     "status": "ok",
     "timestamp": 1737589943529,
     "user": {
      "displayName": "Yuvaraja Reddy Avuthu",
      "userId": "13615256092999220370"
     },
     "user_tz": 300
    },
    "id": "aXMjn3d4q3Zw"
   },
   "outputs": [],
   "source": [
    "import os\n",
    "os.chdir('/content/drive/MyDrive/news_text_classification')"
   ]
  },
  {
   "cell_type": "code",
   "execution_count": 3,
   "metadata": {
    "executionInfo": {
     "elapsed": 2935,
     "status": "ok",
     "timestamp": 1737589947273,
     "user": {
      "displayName": "Yuvaraja Reddy Avuthu",
      "userId": "13615256092999220370"
     },
     "user_tz": 300
    },
    "id": "kCba29KZs191"
   },
   "outputs": [],
   "source": [
    "!pip install -r requirements.txt -q"
   ]
  },
  {
   "cell_type": "code",
   "execution_count": null,
   "metadata": {
    "colab": {
     "base_uri": "https://localhost:8080/"
    },
    "executionInfo": {
     "elapsed": 2859,
     "status": "ok",
     "timestamp": 1737589951602,
     "user": {
      "displayName": "Yuvaraja Reddy Avuthu",
      "userId": "13615256092999220370"
     },
     "user_tz": 300
    },
    "id": "X_8ydzPArfID",
    "outputId": "4a514ee7-8968-47fb-a61b-10052abd5bd9"
   },
   "outputs": [],
   "source": [
    "import kagglehub\n",
    "import shutil\n",
    "\n",
    "download_path = os.getcwd()\n",
    "\n",
    "dataset_path = kagglehub.dataset_download(\"alfathterry/bbc-full-text-document-classification\")\n",
    "destination_path = os.path.join(download_path, \"dataset\")\n",
    "\n",
    "if os.path.exists(destination_path):\n",
    "    print(f\"Path '{destination_path}' already exists. Removing the existing directory...\")\n",
    "    shutil.rmtree(destination_path)\n",
    "\n",
    "shutil.move(dataset_path, destination_path)\n",
    "\n",
    "print(\"Dataset stored at:\", destination_path)"
   ]
  },
  {
   "cell_type": "code",
   "execution_count": 5,
   "metadata": {
    "executionInfo": {
     "elapsed": 3877,
     "status": "ok",
     "timestamp": 1737589962848,
     "user": {
      "displayName": "Yuvaraja Reddy Avuthu",
      "userId": "13615256092999220370"
     },
     "user_tz": 300
    },
    "id": "bdYi20gVslx4"
   },
   "outputs": [],
   "source": [
    "import pandas as pd\n",
    "import numpy as np\n",
    "import matplotlib.pyplot as plt\n",
    "import seaborn as sns\n",
    "import gensim\n",
    "import gensim.downloader as api\n",
    "from gensim.models import word2vec\n",
    "from gensim.models.word2vec import Word2Vec\n",
    "from gensim.models import KeyedVectors\n",
    "from sklearn.decomposition import PCA\n",
    "from sklearn.ensemble import RandomForestClassifier\n",
    "from sklearn.model_selection import train_test_split\n",
    "from sklearn.model_selection import cross_val_score, cross_validate\n",
    "from sklearn.metrics import  accuracy_score"
   ]
  },
  {
   "cell_type": "code",
   "execution_count": 6,
   "metadata": {
    "executionInfo": {
     "elapsed": 150,
     "status": "ok",
     "timestamp": 1737589962996,
     "user": {
      "displayName": "Yuvaraja Reddy Avuthu",
      "userId": "13615256092999220370"
     },
     "user_tz": 300
    },
    "id": "FWbvzK9sua8W"
   },
   "outputs": [],
   "source": [
    "df = pd.read_csv('dataset/bbc_data.csv')"
   ]
  },
  {
   "cell_type": "code",
   "execution_count": null,
   "metadata": {
    "colab": {
     "base_uri": "https://localhost:8080/",
     "height": 206
    },
    "executionInfo": {
     "elapsed": 168,
     "status": "ok",
     "timestamp": 1737589964147,
     "user": {
      "displayName": "Yuvaraja Reddy Avuthu",
      "userId": "13615256092999220370"
     },
     "user_tz": 300
    },
    "id": "DXzqNpwq1yfw",
    "outputId": "b84c68ea-71a2-4522-f14e-9ba54f0f018c"
   },
   "outputs": [],
   "source": [
    "df.head()"
   ]
  },
  {
   "cell_type": "code",
   "execution_count": null,
   "metadata": {
    "colab": {
     "base_uri": "https://localhost:8080/",
     "height": 178
    },
    "executionInfo": {
     "elapsed": 162,
     "status": "ok",
     "timestamp": 1737589965719,
     "user": {
      "displayName": "Yuvaraja Reddy Avuthu",
      "userId": "13615256092999220370"
     },
     "user_tz": 300
    },
    "id": "71M0RPOx5HxE",
    "outputId": "767c3db3-c319-4fb3-d834-64c86d351cd5"
   },
   "outputs": [],
   "source": [
    "df.data[0]"
   ]
  },
  {
   "cell_type": "code",
   "execution_count": null,
   "metadata": {
    "colab": {
     "base_uri": "https://localhost:8080/",
     "height": 272
    },
    "executionInfo": {
     "elapsed": 161,
     "status": "ok",
     "timestamp": 1737589966903,
     "user": {
      "displayName": "Yuvaraja Reddy Avuthu",
      "userId": "13615256092999220370"
     },
     "user_tz": 300
    },
    "id": "5GEHytTR10aJ",
    "outputId": "0af5d582-b7e2-45f5-e24d-6f24d4bb854b"
   },
   "outputs": [],
   "source": [
    "df.labels.value_counts()"
   ]
  },
  {
   "cell_type": "code",
   "execution_count": 10,
   "metadata": {
    "executionInfo": {
     "elapsed": 4236,
     "status": "ok",
     "timestamp": 1737589972349,
     "user": {
      "displayName": "Yuvaraja Reddy Avuthu",
      "userId": "13615256092999220370"
     },
     "user_tz": 300
    },
    "id": "lrpqisJE134t"
   },
   "outputs": [],
   "source": [
    "X = df['data'].apply(gensim.utils.simple_preprocess)\n",
    "y = df['labels']\n",
    "X_train, X_test, y_train, y_test = train_test_split(X, y, test_size=0.20, random_state=2024, stratify=y)"
   ]
  },
  {
   "cell_type": "code",
   "execution_count": 11,
   "metadata": {
    "executionInfo": {
     "elapsed": 97033,
     "status": "ok",
     "timestamp": 1737590069380,
     "user": {
      "displayName": "Yuvaraja Reddy Avuthu",
      "userId": "13615256092999220370"
     },
     "user_tz": 300
    },
    "id": "SWGsLcCC2JTJ"
   },
   "outputs": [],
   "source": [
    "w2v_model = Word2Vec(X_train, window=15, vector_size=300, min_count=2, epochs=30)"
   ]
  },
  {
   "cell_type": "code",
   "execution_count": 12,
   "metadata": {
    "executionInfo": {
     "elapsed": 30,
     "status": "ok",
     "timestamp": 1737590069380,
     "user": {
      "displayName": "Yuvaraja Reddy Avuthu",
      "userId": "13615256092999220370"
     },
     "user_tz": 300
    },
    "id": "Y0r9REWH2Lcb"
   },
   "outputs": [],
   "source": [
    "def sentence_vectorizer(corpus, model):\n",
    "    result = []\n",
    "    for sentence in corpus:\n",
    "        counter = 0\n",
    "        bucket = np.zeros(model.vector_size)\n",
    "        for word in sentence:\n",
    "            if word in model.wv:\n",
    "                counter += 1\n",
    "                bucket += model.wv[word]\n",
    "        bucket = bucket / counter\n",
    "        result.append(bucket)\n",
    "    return result"
   ]
  },
  {
   "cell_type": "code",
   "execution_count": null,
   "metadata": {
    "colab": {
     "base_uri": "https://localhost:8080/"
    },
    "executionInfo": {
     "elapsed": 29,
     "status": "ok",
     "timestamp": 1737590069380,
     "user": {
      "displayName": "Yuvaraja Reddy Avuthu",
      "userId": "13615256092999220370"
     },
     "user_tz": 300
    },
    "id": "lyYxbPPp2Qqc",
    "outputId": "f8bda7cc-6560-4785-b295-52f83c2aa007"
   },
   "outputs": [],
   "source": [
    "words = set(w2v_model.wv.index_to_key) # Unique words in Word2Vec model\n",
    "print(words)"
   ]
  },
  {
   "cell_type": "code",
   "execution_count": 14,
   "metadata": {
    "executionInfo": {
     "elapsed": 4147,
     "status": "ok",
     "timestamp": 1737590073523,
     "user": {
      "displayName": "Yuvaraja Reddy Avuthu",
      "userId": "13615256092999220370"
     },
     "user_tz": 300
    },
    "id": "SAj4dhkI2cxg"
   },
   "outputs": [],
   "source": [
    "X_train_vec = sentence_vectorizer(X_train, w2v_model)\n",
    "X_test_vec = sentence_vectorizer(X_test, w2v_model)"
   ]
  },
  {
   "cell_type": "code",
   "execution_count": null,
   "metadata": {
    "colab": {
     "base_uri": "https://localhost:8080/",
     "height": 80
    },
    "executionInfo": {
     "elapsed": 2601,
     "status": "ok",
     "timestamp": 1737590076120,
     "user": {
      "displayName": "Yuvaraja Reddy Avuthu",
      "userId": "13615256092999220370"
     },
     "user_tz": 300
    },
    "id": "KxlSW2tK2jW_",
    "outputId": "fcfd4a2e-c381-489c-cd29-ef27b60cbd9e"
   },
   "outputs": [],
   "source": [
    "rf = RandomForestClassifier()\n",
    "rf.fit(X_train_vec, y_train)"
   ]
  },
  {
   "cell_type": "code",
   "execution_count": 16,
   "metadata": {
    "executionInfo": {
     "elapsed": 15709,
     "status": "ok",
     "timestamp": 1737590091825,
     "user": {
      "displayName": "Yuvaraja Reddy Avuthu",
      "userId": "13615256092999220370"
     },
     "user_tz": 300
    },
    "id": "gYTbYWTU2y15"
   },
   "outputs": [],
   "source": [
    "cv_result = pd.DataFrame(\n",
    "    cross_validate(rf, X_train_vec, y_train, scoring=['accuracy'], return_train_score=True, verbose=0, n_jobs=-1, cv=6)\n",
    ").rename(columns={'test_accuracy':'val_accuracy'}).iloc[:,2:]"
   ]
  },
  {
   "cell_type": "code",
   "execution_count": null,
   "metadata": {
    "colab": {
     "base_uri": "https://localhost:8080/"
    },
    "executionInfo": {
     "elapsed": 16,
     "status": "ok",
     "timestamp": 1737590091825,
     "user": {
      "displayName": "Yuvaraja Reddy Avuthu",
      "userId": "13615256092999220370"
     },
     "user_tz": 300
    },
    "id": "pG_WP52626XR",
    "outputId": "6b9196e7-48ac-4208-d61e-ee822b887e35"
   },
   "outputs": [],
   "source": [
    "print(cv_result.val_accuracy)"
   ]
  },
  {
   "cell_type": "code",
   "execution_count": null,
   "metadata": {
    "colab": {
     "base_uri": "https://localhost:8080/"
    },
    "executionInfo": {
     "elapsed": 13,
     "status": "ok",
     "timestamp": 1737590091825,
     "user": {
      "displayName": "Yuvaraja Reddy Avuthu",
      "userId": "13615256092999220370"
     },
     "user_tz": 300
    },
    "id": "ZzDNpxZc287R",
    "outputId": "908830bf-e7a0-4585-c799-8e78fae4c30c"
   },
   "outputs": [],
   "source": [
    "val_score = cv_result['val_accuracy'].mean()\n",
    "train_score = cv_result['train_accuracy'].mean()\n",
    "test_score = accuracy_score(y_true=y_test, y_pred=rf.predict(X_test_vec))\n",
    "\n",
    "print('Training Score: ', train_score)\n",
    "print('Validation Score: ', val_score)\n",
    "print('Test Score: ', test_score)"
   ]
  },
  {
   "cell_type": "code",
   "execution_count": null,
   "metadata": {
    "colab": {
     "base_uri": "https://localhost:8080/"
    },
    "executionInfo": {
     "elapsed": 11,
     "status": "ok",
     "timestamp": 1737590091825,
     "user": {
      "displayName": "Yuvaraja Reddy Avuthu",
      "userId": "13615256092999220370"
     },
     "user_tz": 300
    },
    "id": "5wYQ0JLa3Hl7",
    "outputId": "96e1061c-8c90-4249-8ae4-cce0cfc2d7c8"
   },
   "outputs": [],
   "source": [
    "from sklearn.metrics import accuracy_score, precision_score, recall_score, f1_score, confusion_matrix, classification_report\n",
    "\n",
    "# Predict test set\n",
    "y_pred = rf.predict(X_test_vec)\n",
    "\n",
    "# Calculate Metrics\n",
    "accuracy = accuracy_score(y_test, y_pred)\n",
    "precision = precision_score(y_test, y_pred, average='weighted')\n",
    "recall = recall_score(y_test, y_pred, average='weighted')\n",
    "f1 = f1_score(y_test, y_pred, average='weighted')\n",
    "\n",
    "# Print Evaluation Metrics\n",
    "print(\"Evaluation Metrics:\")\n",
    "print(f\"Accuracy: {accuracy:.4f}\")\n",
    "print(f\"Precision: {precision:.4f}\")\n",
    "print(f\"Recall: {recall:.4f}\")\n",
    "print(f\"F1 Score: {f1:.4f}\")\n",
    "\n",
    "# Confusion Matrix\n",
    "conf_matrix = confusion_matrix(y_test, y_pred)\n",
    "print(\"\\nConfusion Matrix:\")\n",
    "print(conf_matrix)\n",
    "\n",
    "# Detailed Classification Report\n",
    "print(\"\\nClassification Report:\")\n",
    "print(classification_report(y_test, y_pred))"
   ]
  },
  {
   "cell_type": "code",
   "execution_count": 19,
   "metadata": {
    "executionInfo": {
     "elapsed": 10,
     "status": "ok",
     "timestamp": 1737590091825,
     "user": {
      "displayName": "Yuvaraja Reddy Avuthu",
      "userId": "13615256092999220370"
     },
     "user_tz": 300
    },
    "id": "TDUMB3Q38ikC"
   },
   "outputs": [],
   "source": []
  },
  {
   "cell_type": "markdown",
   "metadata": {
    "id": "j7MN3-7ZQeqD"
   },
   "source": [
    "### Now i am going to compare the model with CountVectorizer."
   ]
  },
  {
   "cell_type": "code",
   "execution_count": null,
   "metadata": {
    "colab": {
     "base_uri": "https://localhost:8080/"
    },
    "executionInfo": {
     "elapsed": 4190,
     "status": "ok",
     "timestamp": 1737590144031,
     "user": {
      "displayName": "Yuvaraja Reddy Avuthu",
      "userId": "13615256092999220370"
     },
     "user_tz": 300
    },
    "id": "2ESjiNlCQvEd",
    "outputId": "c8208a13-71bc-4687-fc94-5e5990e779bf"
   },
   "outputs": [],
   "source": [
    "from sklearn.feature_extraction.text import CountVectorizer\n",
    "from sklearn.pipeline import Pipeline\n",
    "from nltk.stem import WordNetLemmatizer\n",
    "from nltk.corpus import stopwords, wordnet\n",
    "from nltk import word_tokenize\n",
    "import nltk\n",
    "\n",
    "nltk_data_path = os.path.join(os.getcwd(), \"nltk_data\")\n",
    "if not os.path.exists(nltk_data_path):\n",
    "    os.makedirs(nltk_data_path)\n",
    "\n",
    "nltk.data.path.append(nltk_data_path)\n",
    "nltk.download('wordnet', download_dir=nltk_data_path)\n",
    "# nltk.download('punkt', download_dir=nltk_data_path)\n",
    "nltk.download('punkt_tab', download_dir=nltk_data_path)\n",
    "nltk.download('stopwords', download_dir=nltk_data_path)\n",
    "nltk.download('averaged_perceptron_tagger_eng', download_dir=nltk_data_path)"
   ]
  },
  {
   "cell_type": "code",
   "execution_count": 22,
   "metadata": {
    "executionInfo": {
     "elapsed": 144,
     "status": "ok",
     "timestamp": 1737590149719,
     "user": {
      "displayName": "Yuvaraja Reddy Avuthu",
      "userId": "13615256092999220370"
     },
     "user_tz": 300
    },
    "id": "fzNCDcunQxEx"
   },
   "outputs": [],
   "source": [
    "def get_wordnet_pos(tag):\n",
    "    if tag.startswith('J'):\n",
    "        return wordnet.ADJ\n",
    "    elif tag.startswith('V'):\n",
    "        return wordnet.VERB\n",
    "    elif tag.startswith('N'):\n",
    "        return wordnet.NOUN\n",
    "    elif tag.startswith('R'):\n",
    "        return wordnet.ADV\n",
    "    else:\n",
    "        return wordnet.NOUN\n",
    "\n",
    "class LemmaTokenizer:\n",
    "    def __init__(self):\n",
    "        self.wnl = WordNetLemmatizer()\n",
    "        self.stop_words = set(stopwords.words('english'))\n",
    "\n",
    "    def __call__(self, doc):\n",
    "        tokens = word_tokenize(doc)\n",
    "        words_and_tags = nltk.pos_tag(tokens)\n",
    "        return [self.wnl.lemmatize(word, pos=get_wordnet_pos(tag))\n",
    "        for word, tag in words_and_tags if word.lower() not in self.stop_words]"
   ]
  },
  {
   "cell_type": "code",
   "execution_count": null,
   "metadata": {
    "colab": {
     "base_uri": "https://localhost:8080/"
    },
    "executionInfo": {
     "elapsed": 77412,
     "status": "ok",
     "timestamp": 1737590231352,
     "user": {
      "displayName": "Yuvaraja Reddy Avuthu",
      "userId": "13615256092999220370"
     },
     "user_tz": 300
    },
    "id": "yYaWpA1_RFBe",
    "outputId": "5c8ffa8e-e83a-4627-9dfb-61bc0973c891"
   },
   "outputs": [],
   "source": [
    "# Initialize CountVectorizer with Lemmatization and Stopword Removal\n",
    "vectorizer = CountVectorizer(tokenizer=LemmaTokenizer())\n",
    "\n",
    "X_train, X_test, y_train, y_test = train_test_split(df['data'], df['labels'], test_size=0.20, random_state=2024, stratify=df['labels'])\n",
    "\n",
    "# Transform the dataset\n",
    "X_train_cv = vectorizer.fit_transform(X_train)\n",
    "X_test_cv = vectorizer.transform(X_test)\n",
    "\n",
    "# Train the Random Forest Model\n",
    "rf_cv = RandomForestClassifier()\n",
    "rf_cv.fit(X_train_cv, y_train)\n",
    "\n",
    "# Cross-validation\n",
    "cv_result_cv = pd.DataFrame(\n",
    "    cross_validate(rf_cv, X_train_cv, y_train, scoring=['accuracy'], return_train_score=True, verbose=0, n_jobs=-1, cv=6)\n",
    ").rename(columns={'test_accuracy': 'val_accuracy'}).iloc[:, 2:]\n",
    "\n",
    "# Compute Scores for Count Vectorizer Model\n",
    "val_score_cv = cv_result_cv['val_accuracy'].mean()\n",
    "train_score_cv = cv_result_cv['train_accuracy'].mean()\n",
    "test_score_cv = accuracy_score(y_true=y_test, y_pred=rf_cv.predict(X_test_cv))\n",
    "\n",
    "print(\"\\n===== Model Performance =====\")\n",
    "print(f\"Training Score: {train_score_cv:.4f}\")\n",
    "print(f\"Validation Score: {val_score_cv:.4f}\")\n",
    "print(f\"Test Score: {test_score_cv:.4f}\")"
   ]
  },
  {
   "cell_type": "code",
   "execution_count": null,
   "metadata": {
    "colab": {
     "base_uri": "https://localhost:8080/"
    },
    "executionInfo": {
     "elapsed": 6,
     "status": "ok",
     "timestamp": 1737590231352,
     "user": {
      "displayName": "Yuvaraja Reddy Avuthu",
      "userId": "13615256092999220370"
     },
     "user_tz": 300
    },
    "id": "waMw60S8RU8e",
    "outputId": "4ba8be8e-d25b-4554-b3ba-ca9070964553"
   },
   "outputs": [],
   "source": [
    "from sklearn.metrics import accuracy_score, precision_score, recall_score, f1_score, confusion_matrix, classification_report\n",
    "\n",
    "# Predict test set using CountVectorizer model\n",
    "y_pred_cv = rf_cv.predict(X_test_cv)\n",
    "\n",
    "# Calculate Metrics for CountVectorizer model\n",
    "accuracy_cv = accuracy_score(y_test, y_pred_cv)\n",
    "precision_cv = precision_score(y_test, y_pred_cv, average='weighted')\n",
    "recall_cv = recall_score(y_test, y_pred_cv, average='weighted')\n",
    "f1_cv = f1_score(y_test, y_pred_cv, average='weighted')\n",
    "\n",
    "# Print Evaluation Metrics for CountVectorizer model\n",
    "print(\"\\n===== CountVectorizer Model Evaluation Metrics =====\")\n",
    "print(f\"Accuracy: {accuracy_cv:.4f}\")\n",
    "print(f\"Precision: {precision_cv:.4f}\")\n",
    "print(f\"Recall: {recall_cv:.4f}\")\n",
    "print(f\"F1 Score: {f1_cv:.4f}\")\n",
    "\n",
    "# Confusion Matrix\n",
    "conf_matrix_cv = confusion_matrix(y_test, y_pred_cv)\n",
    "print(\"\\nConfusion Matrix:\")\n",
    "print(conf_matrix_cv)\n",
    "\n",
    "# Detailed Classification Report\n",
    "print(\"\\nClassification Report:\")\n",
    "print(classification_report(y_test, y_pred_cv))"
   ]
  },
  {
   "cell_type": "markdown",
   "metadata": {
    "id": "Yurzyd36aXri"
   },
   "source": [
    "After comparing both models, Word2Vec + Random Forest is performing the best.\n",
    "You can see that:\n",
    "\n",
    "It has higher accuracy (0.9753 vs 0.9708) than CountVectorizer.\n",
    "It has better precision, recall, and F1-score across all categories.\n",
    "The confusion matrix shows fewer misclassifications, making it more reliable.\n",
    "I am going to choose Word2Vec + Random Forest as the best model for text classification."
   ]
  },
  {
   "cell_type": "markdown",
   "metadata": {
    "id": "Bjb-iB9_bQoA"
   },
   "source": [
    "### Saving the best model"
   ]
  },
  {
   "cell_type": "code",
   "execution_count": null,
   "metadata": {
    "colab": {
     "base_uri": "https://localhost:8080/"
    },
    "executionInfo": {
     "elapsed": 607,
     "status": "ok",
     "timestamp": 1737590231956,
     "user": {
      "displayName": "Yuvaraja Reddy Avuthu",
      "userId": "13615256092999220370"
     },
     "user_tz": 300
    },
    "id": "Cg2-f5YJ3sjL",
    "outputId": "1f91cd4e-2bec-483a-c100-31864039b99e"
   },
   "outputs": [],
   "source": [
    "import pickle\n",
    "\n",
    "with open('rf_model.pkl', 'wb') as model_file:\n",
    "    pickle.dump(rf, model_file)\n",
    "\n",
    "print(\"Random Forest Model Saved Successfully\")"
   ]
  },
  {
   "cell_type": "code",
   "execution_count": null,
   "metadata": {
    "colab": {
     "base_uri": "https://localhost:8080/"
    },
    "executionInfo": {
     "elapsed": 2462,
     "status": "ok",
     "timestamp": 1737590234413,
     "user": {
      "displayName": "Yuvaraja Reddy Avuthu",
      "userId": "13615256092999220370"
     },
     "user_tz": 300
    },
    "id": "TnAlNU8R7pzF",
    "outputId": "28d1ec69-51b8-4e8c-eca2-96864f7509ef"
   },
   "outputs": [],
   "source": [
    "w2v_model.save('w2v_model.model')\n",
    "print(\"Word2Vec Model Saved Successfully!\")"
   ]
  },
  {
   "cell_type": "code",
   "execution_count": null,
   "metadata": {
    "colab": {
     "base_uri": "https://localhost:8080/"
    },
    "executionInfo": {
     "elapsed": 354,
     "status": "ok",
     "timestamp": 1737590234764,
     "user": {
      "displayName": "Yuvaraja Reddy Avuthu",
      "userId": "13615256092999220370"
     },
     "user_tz": 300
    },
    "id": "REtk3U1j8IMs",
    "outputId": "0938f373-4647-4228-9ed8-ba00e46d2082"
   },
   "outputs": [],
   "source": [
    "import gensim\n",
    "import numpy as np\n",
    "\n",
    "# Load the saved Word2Vec model\n",
    "w2v_model_loaded = gensim.models.Word2Vec.load('w2v_model.model')\n",
    "with open('rf_model.pkl', 'rb') as model_file:\n",
    "    rf_loaded = pickle.load(model_file)\n",
    "\n",
    "# Function to preprocess, vectorize, and predict the class\n",
    "def predict_news_category(text):\n",
    "    \"\"\"\n",
    "    Takes raw text as input, preprocesses it, converts it into a vector,\n",
    "    and predicts the news category using the trained Random Forest model.\n",
    "    \"\"\"\n",
    "    # Preprocess text\n",
    "    processed_text = gensim.utils.simple_preprocess(text)\n",
    "\n",
    "    # Convert text to vector\n",
    "    def sentence_vectorizer(sentence, model):\n",
    "        bucket = np.zeros(model.vector_size)\n",
    "        counter = 0\n",
    "        for word in sentence:\n",
    "            if word in model.wv:\n",
    "                counter += 1\n",
    "                bucket += model.wv[word]\n",
    "        if counter > 0:\n",
    "            bucket /= counter\n",
    "        return bucket\n",
    "\n",
    "    text_vector = sentence_vectorizer(processed_text, w2v_model_loaded).reshape(1, -1)\n",
    "\n",
    "    # Predict class\n",
    "    predicted_label = rf_loaded.predict(text_vector)[0]\n",
    "\n",
    "    return predicted_label\n",
    "\n",
    "# Example usage\n",
    "text = \"The government is introducing new policies for healthcare reforms.\"\n",
    "predicted_category = predict_news_category(text)\n",
    "print(\"Predicted News Category:\", predicted_category)"
   ]
  },
  {
   "cell_type": "code",
   "execution_count": null,
   "metadata": {
    "id": "-gtFelMARvgz"
   },
   "outputs": [],
   "source": []
  },
  {
   "cell_type": "code",
   "execution_count": null,
   "metadata": {
    "colab": {
     "base_uri": "https://localhost:8080/"
    },
    "executionInfo": {
     "elapsed": 21498,
     "status": "ok",
     "timestamp": 1737590694885,
     "user": {
      "displayName": "Yuvaraja Reddy Avuthu",
      "userId": "13615256092999220370"
     },
     "user_tz": 300
    },
    "id": "nwLf0uFPRvjn",
    "outputId": "45d160d2-7111-4a2a-dab8-2b816f1e616f"
   },
   "outputs": [],
   "source": [
    "!pip install gradio -q\n",
    "!pip install huggingface_hub -q"
   ]
  },
  {
   "cell_type": "code",
   "execution_count": null,
   "metadata": {
    "colab": {
     "base_uri": "https://localhost:8080/",
     "height": 648
    },
    "executionInfo": {
     "elapsed": 2632,
     "status": "ok",
     "timestamp": 1737591048884,
     "user": {
      "displayName": "Yuvaraja Reddy Avuthu",
      "userId": "13615256092999220370"
     },
     "user_tz": 300
    },
    "id": "wJ4R1g9ARvlw",
    "outputId": "a311548e-e34d-49be-c4db-8f10308c2a04"
   },
   "outputs": [],
   "source": [
    "# # app.py\n",
    "\n",
    "# import gradio as gr\n",
    "# import pickle\n",
    "# import gensim\n",
    "# import numpy as np\n",
    "\n",
    "# # Load the trained models\n",
    "# with open(\"rf_model.pkl\", \"rb\") as model_file:\n",
    "#     rf_loaded = pickle.load(model_file)\n",
    "\n",
    "# w2v_model_loaded = gensim.models.Word2Vec.load(\"w2v_model.model\")\n",
    "\n",
    "# # Function to preprocess, vectorize, and predict the class\n",
    "# def predict_news_category(text):\n",
    "#     \"\"\"\n",
    "#     Takes raw text as input, preprocesses it, converts it into a vector,\n",
    "#     and predicts the news category using the trained Random Forest model.\n",
    "#     \"\"\"\n",
    "#     # Preprocess text\n",
    "#     processed_text = gensim.utils.simple_preprocess(text)\n",
    "\n",
    "#     # Convert text to vector\n",
    "#     def sentence_vectorizer(sentence, model):\n",
    "#         bucket = np.zeros(model.vector_size)\n",
    "#         counter = 0\n",
    "#         for word in sentence:\n",
    "#             if word in model.wv:\n",
    "#                 counter += 1\n",
    "#                 bucket += model.wv[word]\n",
    "#         if counter > 0:\n",
    "#             bucket /= counter\n",
    "#         return bucket\n",
    "\n",
    "#     text_vector = sentence_vectorizer(processed_text, w2v_model_loaded).reshape(1, -1)\n",
    "\n",
    "#     # Predict class\n",
    "#     predicted_label = rf_loaded.predict(text_vector)[0]\n",
    "\n",
    "#     return predicted_label\n",
    "\n",
    "# # List of example news texts\n",
    "# examples = [\n",
    "#     [\"The government is introducing new policies for healthcare reforms.\"],\n",
    "#     [\"The stock market saw a significant rise after the tech boom.\"],\n",
    "#     [\"The latest football match between Manchester United and Liverpool was thrilling.\"],\n",
    "#     [\"A new movie featuring top Hollywood actors is set to release this weekend.\"],\n",
    "#     [\"NASA's latest space mission has successfully landed on Mars.\"]\n",
    "# ]\n",
    "\n",
    "# # Define Gradio interface\n",
    "# with gr.Blocks() as demo:\n",
    "#     gr.HTML(\"<h1 style='text-align: center;'>📰 News Category Classifier</h1>\")\n",
    "#     gr.HTML(\"<p style='text-align: center;'>Enter a news article and get its category prediction.</p>\")\n",
    "\n",
    "#     with gr.Row():\n",
    "#         text_input = gr.Textbox(label=\"Enter news text\", interactive=True)\n",
    "\n",
    "#     with gr.Row():\n",
    "#         submit_btn = gr.Button(\"Predict News Category\")\n",
    "\n",
    "#     output_label = gr.Label(label=\"Predicted Category\")\n",
    "\n",
    "#     # Example inputs\n",
    "#     gr.Examples(examples=examples, inputs=text_input, label=\"Click an example to try\")\n",
    "\n",
    "#     submit_btn.click(fn=predict_news_category, inputs=text_input, outputs=output_label)\n",
    "\n",
    "# # Launch app\n",
    "# if __name__ == \"__main__\":\n",
    "#     demo.launch()"
   ]
  },
  {
   "cell_type": "code",
   "execution_count": null,
   "metadata": {
    "colab": {
     "base_uri": "https://localhost:8080/",
     "height": 17,
     "referenced_widgets": [
      "5bcbeeb7c4a945c08a9e1f34053bc191",
      "21538d78eb974678889e90d03d93d05f",
      "64394b8e2ee441af94407682c2d48ce1",
      "fabb72f0da634192ac465bcb0f3fe109",
      "9a40a7c3f8784692ac17056eb2b54c28",
      "79d6b02c6ebe40729fe8b688d16849d7",
      "a19aa88086094edf89cf18ac053a9ec3",
      "30ee5423252440b28ac44b268e45c909",
      "8eb852502e9546fea3b5d3ee7573dae3",
      "1d03cd16f6a84a349c875ffa8cbf5ed1",
      "b28642f492a248e189a5a25b180bdd80",
      "59bb43e830f94e288012229fb4479f4c",
      "09e9d97c87cd4a4fafebc75680539d8f",
      "87bf85429eff41cda62dff13a20c1de4",
      "6832386377454f8993ef7070db2caf7f",
      "b0a1380c44e94cf2a946dfa06f00bb64",
      "65c65f5e72f8463c9fde1e7dc21d754b",
      "f1f3fde04eb44851ad22302c2627420a",
      "425c2557812b408fa4dad76e09ceb9d9",
      "4db59aeb20b448d29dec2ada5a59e204"
     ]
    },
    "executionInfo": {
     "elapsed": 167,
     "status": "ok",
     "timestamp": 1737592074863,
     "user": {
      "displayName": "Yuvaraja Reddy Avuthu",
      "userId": "13615256092999220370"
     },
     "user_tz": 300
    },
    "id": "7N0dC-CAewT0",
    "outputId": "e31ee194-92a0-4f12-bd86-6bab974cef0c"
   },
   "outputs": [],
   "source": []
  },
  {
   "cell_type": "code",
   "execution_count": null,
   "metadata": {
    "id": "yjr4sQDOjQk5"
   },
   "outputs": [],
   "source": []
  }
 ],
 "metadata": {
  "accelerator": "GPU",
  "colab": {
   "authorship_tag": "ABX9TyPp22nNphoa/JCYlFHk6Y/k",
   "gpuType": "T4",
   "mount_file_id": "1fxc61i2XTvXTgqLMLXGMP1UGeVbdyGqD",
   "provenance": []
  },
  "kernelspec": {
   "display_name": "Python 3",
   "name": "python3"
  },
  "language_info": {
   "name": "python"
  },
  "widgets": {
   "application/vnd.jupyter.widget-state+json": {
    "09e9d97c87cd4a4fafebc75680539d8f": {
     "model_module": "@jupyter-widgets/controls",
     "model_module_version": "1.5.0",
     "model_name": "DescriptionStyleModel",
     "state": {
      "_model_module": "@jupyter-widgets/controls",
      "_model_module_version": "1.5.0",
      "_model_name": "DescriptionStyleModel",
      "_view_count": null,
      "_view_module": "@jupyter-widgets/base",
      "_view_module_version": "1.2.0",
      "_view_name": "StyleView",
      "description_width": ""
     }
    },
    "1d03cd16f6a84a349c875ffa8cbf5ed1": {
     "model_module": "@jupyter-widgets/base",
     "model_module_version": "1.2.0",
     "model_name": "LayoutModel",
     "state": {
      "_model_module": "@jupyter-widgets/base",
      "_model_module_version": "1.2.0",
      "_model_name": "LayoutModel",
      "_view_count": null,
      "_view_module": "@jupyter-widgets/base",
      "_view_module_version": "1.2.0",
      "_view_name": "LayoutView",
      "align_content": null,
      "align_items": null,
      "align_self": null,
      "border": null,
      "bottom": null,
      "display": null,
      "flex": null,
      "flex_flow": null,
      "grid_area": null,
      "grid_auto_columns": null,
      "grid_auto_flow": null,
      "grid_auto_rows": null,
      "grid_column": null,
      "grid_gap": null,
      "grid_row": null,
      "grid_template_areas": null,
      "grid_template_columns": null,
      "grid_template_rows": null,
      "height": null,
      "justify_content": null,
      "justify_items": null,
      "left": null,
      "margin": null,
      "max_height": null,
      "max_width": null,
      "min_height": null,
      "min_width": null,
      "object_fit": null,
      "object_position": null,
      "order": null,
      "overflow": null,
      "overflow_x": null,
      "overflow_y": null,
      "padding": null,
      "right": null,
      "top": null,
      "visibility": null,
      "width": null
     }
    },
    "21538d78eb974678889e90d03d93d05f": {
     "model_module": "@jupyter-widgets/controls",
     "model_module_version": "1.5.0",
     "model_name": "HTMLModel",
     "state": {
      "_dom_classes": [],
      "_model_module": "@jupyter-widgets/controls",
      "_model_module_version": "1.5.0",
      "_model_name": "HTMLModel",
      "_view_count": null,
      "_view_module": "@jupyter-widgets/controls",
      "_view_module_version": "1.5.0",
      "_view_name": "HTMLView",
      "description": "",
      "description_tooltip": null,
      "layout": "IPY_MODEL_30ee5423252440b28ac44b268e45c909",
      "placeholder": "​",
      "style": "IPY_MODEL_8eb852502e9546fea3b5d3ee7573dae3",
      "value": "<center> <img\nsrc=https://huggingface.co/front/assets/huggingface_logo-noborder.svg\nalt='Hugging Face'> <br> Copy a token from <a\nhref=\"https://huggingface.co/settings/tokens\" target=\"_blank\">your Hugging Face\ntokens page</a> and paste it below. <br> Immediately click login after copying\nyour token or it might be stored in plain text in this notebook file. </center>"
     }
    },
    "30ee5423252440b28ac44b268e45c909": {
     "model_module": "@jupyter-widgets/base",
     "model_module_version": "1.2.0",
     "model_name": "LayoutModel",
     "state": {
      "_model_module": "@jupyter-widgets/base",
      "_model_module_version": "1.2.0",
      "_model_name": "LayoutModel",
      "_view_count": null,
      "_view_module": "@jupyter-widgets/base",
      "_view_module_version": "1.2.0",
      "_view_name": "LayoutView",
      "align_content": null,
      "align_items": null,
      "align_self": null,
      "border": null,
      "bottom": null,
      "display": null,
      "flex": null,
      "flex_flow": null,
      "grid_area": null,
      "grid_auto_columns": null,
      "grid_auto_flow": null,
      "grid_auto_rows": null,
      "grid_column": null,
      "grid_gap": null,
      "grid_row": null,
      "grid_template_areas": null,
      "grid_template_columns": null,
      "grid_template_rows": null,
      "height": null,
      "justify_content": null,
      "justify_items": null,
      "left": null,
      "margin": null,
      "max_height": null,
      "max_width": null,
      "min_height": null,
      "min_width": null,
      "object_fit": null,
      "object_position": null,
      "order": null,
      "overflow": null,
      "overflow_x": null,
      "overflow_y": null,
      "padding": null,
      "right": null,
      "top": null,
      "visibility": null,
      "width": null
     }
    },
    "425c2557812b408fa4dad76e09ceb9d9": {
     "model_module": "@jupyter-widgets/base",
     "model_module_version": "1.2.0",
     "model_name": "LayoutModel",
     "state": {
      "_model_module": "@jupyter-widgets/base",
      "_model_module_version": "1.2.0",
      "_model_name": "LayoutModel",
      "_view_count": null,
      "_view_module": "@jupyter-widgets/base",
      "_view_module_version": "1.2.0",
      "_view_name": "LayoutView",
      "align_content": null,
      "align_items": null,
      "align_self": null,
      "border": null,
      "bottom": null,
      "display": null,
      "flex": null,
      "flex_flow": null,
      "grid_area": null,
      "grid_auto_columns": null,
      "grid_auto_flow": null,
      "grid_auto_rows": null,
      "grid_column": null,
      "grid_gap": null,
      "grid_row": null,
      "grid_template_areas": null,
      "grid_template_columns": null,
      "grid_template_rows": null,
      "height": null,
      "justify_content": null,
      "justify_items": null,
      "left": null,
      "margin": null,
      "max_height": null,
      "max_width": null,
      "min_height": null,
      "min_width": null,
      "object_fit": null,
      "object_position": null,
      "order": null,
      "overflow": null,
      "overflow_x": null,
      "overflow_y": null,
      "padding": null,
      "right": null,
      "top": null,
      "visibility": null,
      "width": null
     }
    },
    "4db59aeb20b448d29dec2ada5a59e204": {
     "model_module": "@jupyter-widgets/controls",
     "model_module_version": "1.5.0",
     "model_name": "DescriptionStyleModel",
     "state": {
      "_model_module": "@jupyter-widgets/controls",
      "_model_module_version": "1.5.0",
      "_model_name": "DescriptionStyleModel",
      "_view_count": null,
      "_view_module": "@jupyter-widgets/base",
      "_view_module_version": "1.2.0",
      "_view_name": "StyleView",
      "description_width": ""
     }
    },
    "59bb43e830f94e288012229fb4479f4c": {
     "model_module": "@jupyter-widgets/base",
     "model_module_version": "1.2.0",
     "model_name": "LayoutModel",
     "state": {
      "_model_module": "@jupyter-widgets/base",
      "_model_module_version": "1.2.0",
      "_model_name": "LayoutModel",
      "_view_count": null,
      "_view_module": "@jupyter-widgets/base",
      "_view_module_version": "1.2.0",
      "_view_name": "LayoutView",
      "align_content": null,
      "align_items": null,
      "align_self": null,
      "border": null,
      "bottom": null,
      "display": null,
      "flex": null,
      "flex_flow": null,
      "grid_area": null,
      "grid_auto_columns": null,
      "grid_auto_flow": null,
      "grid_auto_rows": null,
      "grid_column": null,
      "grid_gap": null,
      "grid_row": null,
      "grid_template_areas": null,
      "grid_template_columns": null,
      "grid_template_rows": null,
      "height": null,
      "justify_content": null,
      "justify_items": null,
      "left": null,
      "margin": null,
      "max_height": null,
      "max_width": null,
      "min_height": null,
      "min_width": null,
      "object_fit": null,
      "object_position": null,
      "order": null,
      "overflow": null,
      "overflow_x": null,
      "overflow_y": null,
      "padding": null,
      "right": null,
      "top": null,
      "visibility": null,
      "width": null
     }
    },
    "5bcbeeb7c4a945c08a9e1f34053bc191": {
     "model_module": "@jupyter-widgets/controls",
     "model_module_version": "1.5.0",
     "model_name": "VBoxModel",
     "state": {
      "_dom_classes": [],
      "_model_module": "@jupyter-widgets/controls",
      "_model_module_version": "1.5.0",
      "_model_name": "VBoxModel",
      "_view_count": null,
      "_view_module": "@jupyter-widgets/controls",
      "_view_module_version": "1.5.0",
      "_view_name": "VBoxView",
      "box_style": "",
      "children": [],
      "layout": "IPY_MODEL_a19aa88086094edf89cf18ac053a9ec3"
     }
    },
    "64394b8e2ee441af94407682c2d48ce1": {
     "model_module": "@jupyter-widgets/controls",
     "model_module_version": "1.5.0",
     "model_name": "PasswordModel",
     "state": {
      "_dom_classes": [],
      "_model_module": "@jupyter-widgets/controls",
      "_model_module_version": "1.5.0",
      "_model_name": "PasswordModel",
      "_view_count": null,
      "_view_module": "@jupyter-widgets/controls",
      "_view_module_version": "1.5.0",
      "_view_name": "PasswordView",
      "continuous_update": true,
      "description": "Token:",
      "description_tooltip": null,
      "disabled": false,
      "layout": "IPY_MODEL_1d03cd16f6a84a349c875ffa8cbf5ed1",
      "placeholder": "​",
      "style": "IPY_MODEL_b28642f492a248e189a5a25b180bdd80",
      "value": ""
     }
    },
    "65c65f5e72f8463c9fde1e7dc21d754b": {
     "model_module": "@jupyter-widgets/controls",
     "model_module_version": "1.5.0",
     "model_name": "DescriptionStyleModel",
     "state": {
      "_model_module": "@jupyter-widgets/controls",
      "_model_module_version": "1.5.0",
      "_model_name": "DescriptionStyleModel",
      "_view_count": null,
      "_view_module": "@jupyter-widgets/base",
      "_view_module_version": "1.2.0",
      "_view_name": "StyleView",
      "description_width": ""
     }
    },
    "6832386377454f8993ef7070db2caf7f": {
     "model_module": "@jupyter-widgets/controls",
     "model_module_version": "1.5.0",
     "model_name": "ButtonStyleModel",
     "state": {
      "_model_module": "@jupyter-widgets/controls",
      "_model_module_version": "1.5.0",
      "_model_name": "ButtonStyleModel",
      "_view_count": null,
      "_view_module": "@jupyter-widgets/base",
      "_view_module_version": "1.2.0",
      "_view_name": "StyleView",
      "button_color": null,
      "font_weight": ""
     }
    },
    "79d6b02c6ebe40729fe8b688d16849d7": {
     "model_module": "@jupyter-widgets/controls",
     "model_module_version": "1.5.0",
     "model_name": "HTMLModel",
     "state": {
      "_dom_classes": [],
      "_model_module": "@jupyter-widgets/controls",
      "_model_module_version": "1.5.0",
      "_model_name": "HTMLModel",
      "_view_count": null,
      "_view_module": "@jupyter-widgets/controls",
      "_view_module_version": "1.5.0",
      "_view_name": "HTMLView",
      "description": "",
      "description_tooltip": null,
      "layout": "IPY_MODEL_b0a1380c44e94cf2a946dfa06f00bb64",
      "placeholder": "​",
      "style": "IPY_MODEL_65c65f5e72f8463c9fde1e7dc21d754b",
      "value": "\n<b>Pro Tip:</b> If you don't already have one, you can create a dedicated\n'notebooks' token with 'write' access, that you can then easily reuse for all\nnotebooks. </center>"
     }
    },
    "87bf85429eff41cda62dff13a20c1de4": {
     "model_module": "@jupyter-widgets/base",
     "model_module_version": "1.2.0",
     "model_name": "LayoutModel",
     "state": {
      "_model_module": "@jupyter-widgets/base",
      "_model_module_version": "1.2.0",
      "_model_name": "LayoutModel",
      "_view_count": null,
      "_view_module": "@jupyter-widgets/base",
      "_view_module_version": "1.2.0",
      "_view_name": "LayoutView",
      "align_content": null,
      "align_items": null,
      "align_self": null,
      "border": null,
      "bottom": null,
      "display": null,
      "flex": null,
      "flex_flow": null,
      "grid_area": null,
      "grid_auto_columns": null,
      "grid_auto_flow": null,
      "grid_auto_rows": null,
      "grid_column": null,
      "grid_gap": null,
      "grid_row": null,
      "grid_template_areas": null,
      "grid_template_columns": null,
      "grid_template_rows": null,
      "height": null,
      "justify_content": null,
      "justify_items": null,
      "left": null,
      "margin": null,
      "max_height": null,
      "max_width": null,
      "min_height": null,
      "min_width": null,
      "object_fit": null,
      "object_position": null,
      "order": null,
      "overflow": null,
      "overflow_x": null,
      "overflow_y": null,
      "padding": null,
      "right": null,
      "top": null,
      "visibility": null,
      "width": null
     }
    },
    "8eb852502e9546fea3b5d3ee7573dae3": {
     "model_module": "@jupyter-widgets/controls",
     "model_module_version": "1.5.0",
     "model_name": "DescriptionStyleModel",
     "state": {
      "_model_module": "@jupyter-widgets/controls",
      "_model_module_version": "1.5.0",
      "_model_name": "DescriptionStyleModel",
      "_view_count": null,
      "_view_module": "@jupyter-widgets/base",
      "_view_module_version": "1.2.0",
      "_view_name": "StyleView",
      "description_width": ""
     }
    },
    "9a40a7c3f8784692ac17056eb2b54c28": {
     "model_module": "@jupyter-widgets/controls",
     "model_module_version": "1.5.0",
     "model_name": "ButtonModel",
     "state": {
      "_dom_classes": [],
      "_model_module": "@jupyter-widgets/controls",
      "_model_module_version": "1.5.0",
      "_model_name": "ButtonModel",
      "_view_count": null,
      "_view_module": "@jupyter-widgets/controls",
      "_view_module_version": "1.5.0",
      "_view_name": "ButtonView",
      "button_style": "",
      "description": "Login",
      "disabled": false,
      "icon": "",
      "layout": "IPY_MODEL_87bf85429eff41cda62dff13a20c1de4",
      "style": "IPY_MODEL_6832386377454f8993ef7070db2caf7f",
      "tooltip": ""
     }
    },
    "a19aa88086094edf89cf18ac053a9ec3": {
     "model_module": "@jupyter-widgets/base",
     "model_module_version": "1.2.0",
     "model_name": "LayoutModel",
     "state": {
      "_model_module": "@jupyter-widgets/base",
      "_model_module_version": "1.2.0",
      "_model_name": "LayoutModel",
      "_view_count": null,
      "_view_module": "@jupyter-widgets/base",
      "_view_module_version": "1.2.0",
      "_view_name": "LayoutView",
      "align_content": null,
      "align_items": "center",
      "align_self": null,
      "border": null,
      "bottom": null,
      "display": "flex",
      "flex": null,
      "flex_flow": "column",
      "grid_area": null,
      "grid_auto_columns": null,
      "grid_auto_flow": null,
      "grid_auto_rows": null,
      "grid_column": null,
      "grid_gap": null,
      "grid_row": null,
      "grid_template_areas": null,
      "grid_template_columns": null,
      "grid_template_rows": null,
      "height": null,
      "justify_content": null,
      "justify_items": null,
      "left": null,
      "margin": null,
      "max_height": null,
      "max_width": null,
      "min_height": null,
      "min_width": null,
      "object_fit": null,
      "object_position": null,
      "order": null,
      "overflow": null,
      "overflow_x": null,
      "overflow_y": null,
      "padding": null,
      "right": null,
      "top": null,
      "visibility": null,
      "width": "50%"
     }
    },
    "b0a1380c44e94cf2a946dfa06f00bb64": {
     "model_module": "@jupyter-widgets/base",
     "model_module_version": "1.2.0",
     "model_name": "LayoutModel",
     "state": {
      "_model_module": "@jupyter-widgets/base",
      "_model_module_version": "1.2.0",
      "_model_name": "LayoutModel",
      "_view_count": null,
      "_view_module": "@jupyter-widgets/base",
      "_view_module_version": "1.2.0",
      "_view_name": "LayoutView",
      "align_content": null,
      "align_items": null,
      "align_self": null,
      "border": null,
      "bottom": null,
      "display": null,
      "flex": null,
      "flex_flow": null,
      "grid_area": null,
      "grid_auto_columns": null,
      "grid_auto_flow": null,
      "grid_auto_rows": null,
      "grid_column": null,
      "grid_gap": null,
      "grid_row": null,
      "grid_template_areas": null,
      "grid_template_columns": null,
      "grid_template_rows": null,
      "height": null,
      "justify_content": null,
      "justify_items": null,
      "left": null,
      "margin": null,
      "max_height": null,
      "max_width": null,
      "min_height": null,
      "min_width": null,
      "object_fit": null,
      "object_position": null,
      "order": null,
      "overflow": null,
      "overflow_x": null,
      "overflow_y": null,
      "padding": null,
      "right": null,
      "top": null,
      "visibility": null,
      "width": null
     }
    },
    "b28642f492a248e189a5a25b180bdd80": {
     "model_module": "@jupyter-widgets/controls",
     "model_module_version": "1.5.0",
     "model_name": "DescriptionStyleModel",
     "state": {
      "_model_module": "@jupyter-widgets/controls",
      "_model_module_version": "1.5.0",
      "_model_name": "DescriptionStyleModel",
      "_view_count": null,
      "_view_module": "@jupyter-widgets/base",
      "_view_module_version": "1.2.0",
      "_view_name": "StyleView",
      "description_width": ""
     }
    },
    "f1f3fde04eb44851ad22302c2627420a": {
     "model_module": "@jupyter-widgets/controls",
     "model_module_version": "1.5.0",
     "model_name": "LabelModel",
     "state": {
      "_dom_classes": [],
      "_model_module": "@jupyter-widgets/controls",
      "_model_module_version": "1.5.0",
      "_model_name": "LabelModel",
      "_view_count": null,
      "_view_module": "@jupyter-widgets/controls",
      "_view_module_version": "1.5.0",
      "_view_name": "LabelView",
      "description": "",
      "description_tooltip": null,
      "layout": "IPY_MODEL_425c2557812b408fa4dad76e09ceb9d9",
      "placeholder": "​",
      "style": "IPY_MODEL_4db59aeb20b448d29dec2ada5a59e204",
      "value": "Connecting..."
     }
    },
    "fabb72f0da634192ac465bcb0f3fe109": {
     "model_module": "@jupyter-widgets/controls",
     "model_module_version": "1.5.0",
     "model_name": "CheckboxModel",
     "state": {
      "_dom_classes": [],
      "_model_module": "@jupyter-widgets/controls",
      "_model_module_version": "1.5.0",
      "_model_name": "CheckboxModel",
      "_view_count": null,
      "_view_module": "@jupyter-widgets/controls",
      "_view_module_version": "1.5.0",
      "_view_name": "CheckboxView",
      "description": "Add token as git credential?",
      "description_tooltip": null,
      "disabled": false,
      "indent": true,
      "layout": "IPY_MODEL_59bb43e830f94e288012229fb4479f4c",
      "style": "IPY_MODEL_09e9d97c87cd4a4fafebc75680539d8f",
      "value": true
     }
    }
   }
  }
 },
 "nbformat": 4,
 "nbformat_minor": 0
}
